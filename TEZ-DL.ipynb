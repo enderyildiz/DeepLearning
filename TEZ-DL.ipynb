{
 "cells": [
  {
   "cell_type": "markdown",
   "metadata": {},
   "source": [
    "# Airbnb Fiyat Tahmini DL Algoritması"
   ]
  },
  {
   "cell_type": "markdown",
   "metadata": {},
   "source": [
    "# Gerekli Kütüphaneler"
   ]
  },
  {
   "cell_type": "code",
   "execution_count": 1,
   "metadata": {},
   "outputs": [
    {
     "name": "stderr",
     "output_type": "stream",
     "text": [
      "Using TensorFlow backend.\n"
     ]
    }
   ],
   "source": [
    "from __future__ import print_function\n",
    "import os\n",
    "import numpy as np\n",
    "import pandas as pd\n",
    "import matplotlib.pyplot as plt\n",
    "\n",
    "import keras\n",
    "from keras import metrics\n",
    "from keras import regularizers\n",
    "from keras.models import Sequential\n",
    "from keras.layers import Dense, Dropout, Flatten, Activation\n",
    "from keras.layers import Conv2D, MaxPooling2D\n",
    "from keras.optimizers import Adam, RMSprop\n",
    "from keras.callbacks import TensorBoard, EarlyStopping, ModelCheckpoint\n",
    "from keras.utils import plot_model\n",
    "from keras.models import load_model\n"
   ]
  },
  {
   "cell_type": "markdown",
   "metadata": {},
   "source": [
    "# Verilerin Okunması"
   ]
  },
  {
   "cell_type": "code",
   "execution_count": 2,
   "metadata": {},
   "outputs": [],
   "source": [
    "listings_df = pd.read_csv('listings.csv')\n",
    "calendar_df = pd.read_csv('calendar.csv')"
   ]
  },
  {
   "cell_type": "markdown",
   "metadata": {},
   "source": [
    "# Veri Temizleme ve Analiz İşlemleri"
   ]
  },
  {
   "cell_type": "code",
   "execution_count": 3,
   "metadata": {},
   "outputs": [],
   "source": [
    "#Veri temizle için yardımcı fonksiyon\n",
    "def get_day_from_date(row):\n",
    "    ''' Gün bulma '''\n",
    "    return int(row['date'].split('-')[2])\n",
    "\n",
    "def get_month_from_date(row):\n",
    "    ''' Ay bulma '''\n",
    "    return int(row['date'].split('-')[1])\n",
    "\n",
    "def get_year_from_date(row):\n",
    "    ''' Yıl bulma '''\n",
    "    return int(row['date'].split('-')[0])\n",
    "\n",
    "def get_host_since_year(row):\n",
    "    ''' konaklama yılını bulma '''\n",
    "    try:\n",
    "        host_since = int(row['host_since'].split('-')[0])\n",
    "    except:\n",
    "        host_since = np.nan\n",
    "    return host_since\n",
    "\n",
    "def get_val_from_list(row, column_name, value):\n",
    "    ''' Kukla sütunları doldurma '''\n",
    "    val = 0.0\n",
    "    try:\n",
    "        vals = row[column_name].replace('[',\n",
    "                                        '').replace(\"'\", '').replace(\"]\", '').replace('\"',\n",
    "                                        '').replace('{', '').replace('}', '').split(',')\n",
    "        if value in vals:\n",
    "            val = 1.0\n",
    "    except:\n",
    "        val = 0.0\n",
    "    return val\n",
    "\n",
    "def split_list_into_columns(df, column_name, max_dummies_num = 10):\n",
    "    ''' sütunda bulunan değerleri liste haline getirme örneğin: amenities/kolaylıklar '''\n",
    "    \n",
    "    # versetindeki tekil değerleri getirme\n",
    "    values_dict = {}\n",
    "\n",
    "    for unique_value in df[column_name].unique(): \n",
    "        for value in unique_value.replace('[', '').replace(\"'\",\n",
    "                                                           '').replace(\"]\", '').replace('\"', '').replace('{',\n",
    "                                                            '').replace('}', '').split(','):\n",
    "            if value in values_dict:\n",
    "                values_dict[value] = values_dict[value] + 1\n",
    "            else:\n",
    "                values_dict[value] = 0\n",
    "                \n",
    "    values_sorted = sorted(values_dict.items(), key=lambda kv: kv[1], reverse = True)\n",
    "      \n",
    "     # sütunlara ayırma\n",
    "    for value in values_sorted[: max_dummies_num]:\n",
    "        df[column_name + '_' + value[0]] = df.apply(lambda row: get_val_from_list(row, column_name, value[0]),axis=1)\n",
    "        \n",
    "    return\n",
    "\n",
    "def get_extra_people_fee(row):\n",
    "    ''' fazladan bir kişi geldiğinde sonuç olarak 1 döndürecek '''\n",
    "    if row['extra_people'] == '$0.00':\n",
    "        return 0.0\n",
    "    else:\n",
    "        return 1.0\n",
    "\n",
    "#Veri temizleme fonksiyonu\n",
    "def clean_dataset(listings_df, calendar_df):\n",
    "    '''\n",
    "    Girişler\n",
    "    listings_df - pandas dataframe ilan veri seti \n",
    "    calendar_df - pandas dataframe rezervasyon veri seti\n",
    "    \n",
    "    Çıktılar\n",
    "    df - temizlenmiş veri seti, ilan ve rezervasyon veri setlerinin birleştirilmesiyle oluşturulmuştur:\n",
    "    1. İlişkisiz sütunlar veri setinden kaldırılmıştır;\n",
    "    2. Tarih verileri ay ve yıl bildirecek şekilde sayısayl hale getirilmiştir.;\n",
    "    3. içerisinde liste barından sütunlar tekrar sütunlara ayırlarak veri normalizasyonu yapılmıştır.\n",
    "    4. missing values are imputed with mean or mode.\n",
    "    '''\n",
    "    #veri setini birleştirme\n",
    "    listings_df = listings_df.rename(index=str, columns={\"id\": \"listing_id\"})\n",
    "    df = pd.merge(calendar_df, listings_df, on = 'listing_id')\n",
    "    \n",
    "    #ilişkisiz  sütunlarını kaldırma\n",
    "    columns_to_drop = ['available', 'host_id','host_location','host_acceptance_rate','host_neighbourhood',\n",
    "               'host_total_listings_count', 'weekly_price', 'monthly_price',\n",
    "               'security_deposit', 'cleaning_fee', 'calendar_updated',\n",
    "               'listing_url','last_scraped' ,'scrape_id', 'name', 'summary', 'space', 'description',\n",
    "               'experiences_offered', 'street', 'neighbourhood', 'neighbourhood_cleansed', 'zipcode',\n",
    "               'neighborhood_overview', 'notes', 'transit', 'thumbnail_url', 'medium_url', 'picture_url',\n",
    "               'xl_picture_url', 'host_url', 'host_name', 'host_about', 'host_thumbnail_url', 'host_picture_url',\n",
    "               'city', 'state', 'market', 'smart_location', 'country_code', 'country', 'latitude', 'longitude',\n",
    "               'is_location_exact', 'square_feet', 'has_availability', 'availability_30',\n",
    "               'availability_60', 'availability_90', 'availability_365', 'calendar_last_scraped',\n",
    "               'first_review', 'last_review', 'requires_license', 'license', 'jurisdiction_names', 'price_y',\n",
    "               'reviews_per_month','host_response_time','host_is_superhost','host_has_profile_pic','host_identity_verified',\n",
    "               'neighbourhood_group_cleansed','property_type','room_type','bed_type','instant_bookable','cancellation_policy',\n",
    "               'require_guest_profile_picture','require_guest_phone_verification']\n",
    "    df = df.drop(columns = columns_to_drop)\n",
    "    \n",
    "    #rezervasyon veri setinde tarih olarak gelen sütun değerini gün,ay ve yıl olarak üçe bölerek sayısallaştırma\n",
    "    df['month'] = df.apply(lambda row: get_month_from_date(row),axis=1)\n",
    "    df['year'] = df.apply(lambda row: get_year_from_date(row),axis=1)\n",
    "    df['day'] = df.apply(lambda row: get_day_from_date(row),axis=1)\n",
    "    df = df.drop(columns = ['date'])\n",
    "    \n",
    "    #price_x sütununu kaldırma süreci\n",
    "    df = df.dropna(subset=['price_x'])\n",
    "    \n",
    "    #fiyat sütununu sayısallaştıma\n",
    "    df['price'] = df['price_x'].astype(str)\n",
    "    df['price'] = df['price'].str.replace(\"[$, ]\", \"\").astype(\"float\")\n",
    "    df = df.drop(columns = ['price_x'])\n",
    "    \n",
    "    #host_since tarih alanındaki tarihi sayısallaştırma ve boş verileri kaldırma işlemi\n",
    "    df['host_since_year'] = df.apply(lambda row: get_host_since_year(row),axis=1)\n",
    "    df['host_since_year'].fillna(df['host_since_year'].mean(), inplace = True)\n",
    "    df = df.drop(columns = ['host_since'])\n",
    "    \n",
    "    #host_response_rate sütunundaki verileri sayısallaştırma ve boş verileri kaldırma işlemi\n",
    "    df['host_response_rate_num'] = df['host_response_rate'].astype(str)\n",
    "    df['host_response_rate_num'] = df['host_response_rate_num'].str.replace(\"%\", \"\").astype(\"float\")\n",
    "    df['host_response_rate_num'].fillna(df['host_response_rate_num'].mean(), inplace = True)\n",
    "    \n",
    "    df['host_response_rate_buckets'] = pd.qcut(df['host_response_rate_num'], 5, labels=False, duplicates = 'drop')\n",
    "    \n",
    "    df = df.drop(columns = ['host_response_rate', 'host_response_rate_num'])\n",
    "    \n",
    "    # host_listings_count sütunundaki boş verileri ortalama host_listings_count ile doldurma\n",
    "    df['host_listings_count'].fillna(df['host_listings_count'].mean(), inplace = True)\n",
    "    \n",
    "    #host_verifications kukla sütunun bölünlendirme ve orjinal değerleri kaldırma işlemi\n",
    "    split_list_into_columns(df, 'host_verifications')\n",
    "    df = df.drop(columns = ['host_verifications'])\n",
    "    \n",
    "    #bathrooms, bedrooms and beds sütunların mode alarak boş verileri doldurma işlemi\n",
    "    df['bathrooms'] = df['bathrooms'].fillna(df['bathrooms'].mode()[0])\n",
    "    df['bedrooms'] = df['bedrooms'].fillna(df['bedrooms'].mode()[0])\n",
    "    df['beds'] = df['beds'].fillna(df['beds'].mode()[0])\n",
    "    \n",
    "    #amenities, kukla değişkenlere bölerek orjinal halindeki veriyi silme işlemi\n",
    "    split_list_into_columns(df, 'amenities')\n",
    "    df = df.drop(columns = ['amenities'])\n",
    "    \n",
    "    #fazladan kişi olması durumunda sonucun 1 olmaması durumunda sonucun 0 olarak ayarlanma işlemi\n",
    "    df['extra_people_fee'] = df.apply(lambda row: get_extra_people_fee(row),axis=1)\n",
    "    df = df.drop(columns = ['extra_people'])\n",
    "    \n",
    "    #kullanıcıların görüşlerinin verilerinin tutulduğu sütunlardaki boş verilerin doldurulma işlemi\n",
    "    review_scores_columns = ['review_scores_rating', 'review_scores_accuracy', 'review_scores_cleanliness',\n",
    "                         'review_scores_checkin', 'review_scores_communication', 'review_scores_location',\n",
    "                        'review_scores_value']\n",
    "    for column in review_scores_columns:\n",
    "        df[column].fillna(df[column].mean(), inplace = True)\n",
    "    \n",
    "    return df"
   ]
  },
  {
   "cell_type": "code",
   "execution_count": 4,
   "metadata": {},
   "outputs": [],
   "source": [
    "# oluştulmuş veri temizle fonksiyonun çağırma ve veriyi temizleyip birleştirme işleminin yapılması\n",
    "df = clean_dataset(listings_df, calendar_df)"
   ]
  },
  {
   "cell_type": "code",
   "execution_count": 5,
   "metadata": {},
   "outputs": [
    {
     "name": "stdout",
     "output_type": "stream",
     "text": [
      "         listing_id  host_listings_count   accommodates      bathrooms  \\\n",
      "count  9.345420e+05        934542.000000  934542.000000  934542.000000   \n",
      "mean   5.305517e+06             8.432040       3.317107       1.257427   \n",
      "std    2.974821e+06            31.244377       1.997961       0.581368   \n",
      "min    3.335000e+03             1.000000       1.000000       0.000000   \n",
      "25%    2.875975e+06             1.000000       2.000000       1.000000   \n",
      "50%    5.615620e+06             1.000000       2.000000       1.000000   \n",
      "75%    7.873345e+06             3.000000       4.000000       1.000000   \n",
      "max    1.034016e+07           502.000000      16.000000       8.000000   \n",
      "\n",
      "            bedrooms           beds  guests_included  minimum_nights  \\\n",
      "count  934542.000000  934542.000000    934542.000000   934542.000000   \n",
      "mean        1.284307       1.729342         1.639393        2.446024   \n",
      "std         0.847055       1.153594         1.267317       19.784246   \n",
      "min         0.000000       1.000000         0.000000        1.000000   \n",
      "25%         1.000000       1.000000         1.000000        1.000000   \n",
      "50%         1.000000       1.000000         1.000000        2.000000   \n",
      "75%         2.000000       2.000000         2.000000        2.000000   \n",
      "max         7.000000      15.000000        15.000000     1000.000000   \n",
      "\n",
      "       maximum_nights  number_of_reviews  ...  amenities_Heating  \\\n",
      "count   934542.000000      934542.000000  ...      934542.000000   \n",
      "mean       786.780399          24.065168  ...           0.949355   \n",
      "std       1072.300898          39.802954  ...           0.219272   \n",
      "min          1.000000           0.000000  ...           0.000000   \n",
      "25%         90.000000           2.000000  ...           1.000000   \n",
      "50%       1125.000000          10.000000  ...           1.000000   \n",
      "75%       1125.000000          29.000000  ...           1.000000   \n",
      "max     100000.000000         474.000000  ...           1.000000   \n",
      "\n",
      "       amenities_Kitchen  amenities_Smoke Detector  amenities_Essentials  \\\n",
      "count      934542.000000             934542.000000         934542.000000   \n",
      "mean            0.888434                  0.848691              0.832344   \n",
      "std             0.314832                  0.358350              0.373561   \n",
      "min             0.000000                  0.000000              0.000000   \n",
      "25%             1.000000                  1.000000              1.000000   \n",
      "50%             1.000000                  1.000000              1.000000   \n",
      "75%             1.000000                  1.000000              1.000000   \n",
      "max             1.000000                  1.000000              1.000000   \n",
      "\n",
      "       amenities_Dryer  amenities_Washer  amenities_Internet  \\\n",
      "count    934542.000000     934542.000000       934542.000000   \n",
      "mean          0.776109          0.776059            0.727709   \n",
      "std           0.416850          0.416883            0.445139   \n",
      "min           0.000000          0.000000            0.000000   \n",
      "25%           1.000000          1.000000            0.000000   \n",
      "50%           1.000000          1.000000            1.000000   \n",
      "75%           1.000000          1.000000            1.000000   \n",
      "max           1.000000          1.000000            1.000000   \n",
      "\n",
      "       amenities_Shampoo   amenities_TV  extra_people_fee  \n",
      "count      934542.000000  934542.000000     934542.000000  \n",
      "mean            0.692804       0.663095          0.465385  \n",
      "std             0.461332       0.472652          0.498801  \n",
      "min             0.000000       0.000000          0.000000  \n",
      "25%             0.000000       0.000000          0.000000  \n",
      "50%             1.000000       1.000000          0.000000  \n",
      "75%             1.000000       1.000000          1.000000  \n",
      "max             1.000000       1.000000          1.000000  \n",
      "\n",
      "[8 rows x 45 columns]\n"
     ]
    }
   ],
   "source": [
    "label_col = 'price'\n",
    "print(df.describe())"
   ]
  },
  {
   "cell_type": "code",
   "execution_count": 6,
   "metadata": {},
   "outputs": [],
   "source": [
    "def train_validate_test_split(df, train_part=.6, validate_part=.2, test_part=.2, seed=None):\n",
    "    np.random.seed(seed)\n",
    "    total_size = train_part + validate_part + test_part\n",
    "    train_percent = train_part / total_size\n",
    "    validate_percent = validate_part / total_size\n",
    "    test_percent = test_part / total_size\n",
    "    perm = np.random.permutation(df.index)\n",
    "    m = len(df)\n",
    "    train_end = int(train_percent * m)\n",
    "    validate_end = int(validate_percent * m) + train_end\n",
    "    train = perm[:train_end]\n",
    "    validate = perm[train_end:validate_end]\n",
    "    test = perm[validate_end:]\n",
    "    return train, validate, test"
   ]
  },
  {
   "cell_type": "code",
   "execution_count": 7,
   "metadata": {},
   "outputs": [],
   "source": [
    "train_size, valid_size, test_size = (70, 30, 0)\n",
    "kc_train, kc_valid, kc_test = train_validate_test_split(df, \n",
    "                              train_part=train_size, \n",
    "                              validate_part=valid_size,\n",
    "                              test_part=test_size,\n",
    "                              seed=2016)"
   ]
  },
  {
   "cell_type": "code",
   "execution_count": 8,
   "metadata": {},
   "outputs": [
    {
     "name": "stdout",
     "output_type": "stream",
     "text": [
      "Eğitim setinin boyutu   :  654179\n",
      "Doğrulama setinin boyutu:  280362\n",
      "Test setinin boyutu     :  1 (dönüştürülmeyen)\n"
     ]
    }
   ],
   "source": [
    "kc_y_train = df.loc[kc_train, [label_col]]\n",
    "kc_x_train = df.loc[kc_train, :].drop(label_col, axis=1)\n",
    "kc_y_valid = df.loc[kc_valid, [label_col]]\n",
    "kc_x_valid = df.loc[kc_valid, :].drop(label_col, axis=1)\n",
    "\n",
    "print('Eğitim setinin boyutu   : ', len(kc_x_train))\n",
    "print('Doğrulama setinin boyutu: ', len(kc_x_valid))\n",
    "print('Test setinin boyutu     : ', len(kc_test), '(dönüştürülmeyen)')"
   ]
  },
  {
   "cell_type": "code",
   "execution_count": 9,
   "metadata": {},
   "outputs": [],
   "source": [
    "def norm_stats(df1, df2):\n",
    "    dfs = df1.append(df2)\n",
    "    minimum = np.min(dfs)\n",
    "    maximum = np.max(dfs)\n",
    "    mu = np.mean(dfs)\n",
    "    sigma = np.std(dfs)\n",
    "    return (minimum, maximum, mu, sigma)"
   ]
  },
  {
   "cell_type": "code",
   "execution_count": 10,
   "metadata": {},
   "outputs": [],
   "source": [
    "def z_score(col, stats):\n",
    "    m, M, mu, s = stats\n",
    "    df = pd.DataFrame()\n",
    "    for c in col.columns:\n",
    "        df[c] = (col[c]-mu[c])/s[c]\n",
    "    return df"
   ]
  },
  {
   "cell_type": "code",
   "execution_count": 11,
   "metadata": {},
   "outputs": [
    {
     "name": "stdout",
     "output_type": "stream",
     "text": [
      "Eğitim şekli      : (654179, 44)\n",
      "Eğitim örnekleri  :  654179\n",
      "Onaylama örnekleri:  280362\n"
     ]
    }
   ],
   "source": [
    "stats = norm_stats(kc_x_train, kc_x_valid)\n",
    "arr_x_train = np.array(z_score(kc_x_train, stats))\n",
    "arr_y_train = np.array(kc_y_train)\n",
    "arr_x_valid = np.array(z_score(kc_x_valid, stats))\n",
    "arr_y_valid = np.array(kc_y_valid)\n",
    "\n",
    "print('Eğitim şekli      :', arr_x_train.shape)\n",
    "print('Eğitim örnekleri  : ', arr_x_train.shape[0])\n",
    "print('Onaylama örnekleri: ', arr_x_valid.shape[0])"
   ]
  },
  {
   "cell_type": "code",
   "execution_count": 12,
   "metadata": {},
   "outputs": [],
   "source": [
    "def basic_model_1(x_size, y_size):\n",
    "    t_model = Sequential()\n",
    "    t_model.add(Dense(100, activation=\"tanh\", input_shape=(x_size,)))\n",
    "    t_model.add(Dense(50, activation=\"relu\"))\n",
    "    t_model.add(Dense(y_size))\n",
    "    print(t_model.summary())\n",
    "    t_model.compile(loss='mean_squared_error',\n",
    "        optimizer=Adam(),\n",
    "        metrics=[metrics.mae])\n",
    "    return(t_model)"
   ]
  },
  {
   "cell_type": "code",
   "execution_count": 13,
   "metadata": {},
   "outputs": [],
   "source": [
    "def basic_model_2(x_size, y_size):\n",
    "    t_model = Sequential()\n",
    "    t_model.add(Dense(100, activation=\"tanh\", input_shape=(x_size,)))\n",
    "    t_model.add(Dropout(0.1))\n",
    "    t_model.add(Dense(50, activation=\"relu\"))\n",
    "    t_model.add(Dense(20, activation=\"relu\"))\n",
    "    t_model.add(Dense(y_size))\n",
    "    print(t_model.summary())\n",
    "    t_model.compile(loss='mean_squared_error',\n",
    "        optimizer=Adam(),\n",
    "        metrics=[metrics.mae])\n",
    "    return(t_model)"
   ]
  },
  {
   "cell_type": "code",
   "execution_count": 14,
   "metadata": {},
   "outputs": [],
   "source": [
    "def basic_model_3(x_size, y_size):\n",
    "    t_model = Sequential()\n",
    "    t_model.add(Dense(80, activation=\"tanh\", kernel_initializer='normal', input_shape=(x_size,)))\n",
    "    t_model.add(Dropout(0.2))\n",
    "    t_model.add(Dense(120, activation=\"relu\", kernel_initializer='normal', \n",
    "        kernel_regularizer=regularizers.l1(0.01), bias_regularizer=regularizers.l1(0.01)))\n",
    "    t_model.add(Dropout(0.1))\n",
    "    t_model.add(Dense(20, activation=\"relu\", kernel_initializer='normal', \n",
    "        kernel_regularizer=regularizers.l1_l2(0.01), bias_regularizer=regularizers.l1_l2(0.01)))\n",
    "    t_model.add(Dropout(0.1))\n",
    "    t_model.add(Dense(10, activation=\"relu\", kernel_initializer='normal'))\n",
    "    t_model.add(Dropout(0.0))\n",
    "    t_model.add(Dense(y_size))\n",
    "    t_model.compile(\n",
    "        loss='mean_squared_error',\n",
    "        optimizer='nadam',\n",
    "        metrics=[metrics.mae])\n",
    "    return(t_model)"
   ]
  },
  {
   "cell_type": "code",
   "execution_count": 15,
   "metadata": {},
   "outputs": [
    {
     "name": "stdout",
     "output_type": "stream",
     "text": [
      "_________________________________________________________________\n",
      "Layer (type)                 Output Shape              Param #   \n",
      "=================================================================\n",
      "dense_1 (Dense)              (None, 80)                3600      \n",
      "_________________________________________________________________\n",
      "dropout_1 (Dropout)          (None, 80)                0         \n",
      "_________________________________________________________________\n",
      "dense_2 (Dense)              (None, 120)               9720      \n",
      "_________________________________________________________________\n",
      "dropout_2 (Dropout)          (None, 120)               0         \n",
      "_________________________________________________________________\n",
      "dense_3 (Dense)              (None, 20)                2420      \n",
      "_________________________________________________________________\n",
      "dropout_3 (Dropout)          (None, 20)                0         \n",
      "_________________________________________________________________\n",
      "dense_4 (Dense)              (None, 10)                210       \n",
      "_________________________________________________________________\n",
      "dropout_4 (Dropout)          (None, 10)                0         \n",
      "_________________________________________________________________\n",
      "dense_5 (Dense)              (None, 1)                 11        \n",
      "=================================================================\n",
      "Total params: 15,961\n",
      "Trainable params: 15,961\n",
      "Non-trainable params: 0\n",
      "_________________________________________________________________\n"
     ]
    }
   ],
   "source": [
    "model = basic_model_3(arr_x_train.shape[1], arr_y_train.shape[1])\n",
    "model.summary()"
   ]
  },
  {
   "cell_type": "code",
   "execution_count": 16,
   "metadata": {},
   "outputs": [
    {
     "name": "stdout",
     "output_type": "stream",
     "text": [
      "Epochs:  500\n",
      "Batch boyutu:  128\n"
     ]
    }
   ],
   "source": [
    "epochs = 500\n",
    "batch_size = 128\n",
    "\n",
    "print('Epochs: ', epochs)\n",
    "print('Batch boyutu: ', batch_size)"
   ]
  },
  {
   "cell_type": "code",
   "execution_count": 17,
   "metadata": {},
   "outputs": [],
   "source": [
    "keras_callbacks = [\n",
    "    # ModelCheckpoint('/tmp/keras_checkpoints/model.{epoch:02d}-{val_loss:.2f}.hdf5', monitor='val_loss', save_best_only=True, verbose=2)\n",
    "    # ModelCheckpoint('/tmp/keras_checkpoints/model.{epoch:02d}.hdf5', monitor='val_loss', save_best_only=True, verbose=0)\n",
    "    # TensorBoard(log_dir='/tmp/keras_logs/model_3', histogram_freq=0, write_graph=True, write_images=True, embeddings_freq=0, embeddings_layer_names=None, embeddings_metadata=None),\n",
    "    EarlyStopping(monitor='val_mean_absolute_error', patience=20, verbose=0)\n",
    "]"
   ]
  },
  {
   "cell_type": "code",
   "execution_count": 18,
   "metadata": {},
   "outputs": [],
   "source": [
    "history = model.fit(arr_x_train, arr_y_train,\n",
    "    batch_size=batch_size,\n",
    "    epochs=epochs,\n",
    "    shuffle=True,\n",
    "    verbose=0, # Change it to 2, if wished to observe execution\n",
    "    validation_data=(arr_x_valid, arr_y_valid),\n",
    "    callbacks=keras_callbacks)"
   ]
  },
  {
   "cell_type": "code",
   "execution_count": 19,
   "metadata": {},
   "outputs": [
    {
     "name": "stdout",
     "output_type": "stream",
     "text": [
      "Eğitim MAE:  14.089 , Eğitim Kaybı:  525.1152\n",
      "Test Sonuç doğrulama MAE:  14.1855 , Test Sonuç Kaybı:  535.7411\n"
     ]
    }
   ],
   "source": [
    "train_score = model.evaluate(arr_x_train, arr_y_train, verbose=0)\n",
    "valid_score = model.evaluate(arr_x_valid, arr_y_valid, verbose=0)\n",
    "\n",
    "print('Eğitim MAE: ', round(train_score[1], 4), ', Eğitim Kaybı: ', round(train_score[0], 4)) \n",
    "print('Test Sonuç doğrulama MAE: ', round(valid_score[1], 4), ', Test Sonuç Kaybı: ', round(valid_score[0], 4))"
   ]
  },
  {
   "cell_type": "code",
   "execution_count": 20,
   "metadata": {},
   "outputs": [],
   "source": [
    "def plot_hist(h, xsize=6, ysize=10):\n",
    "    # Grafik Hazırlığı\n",
    "    fig_size = plt.rcParams[\"figure.figsize\"]\n",
    "    plt.rcParams[\"figure.figsize\"] = [xsize, ysize]\n",
    "    fig, axes = plt.subplots(nrows=4, ncols=4, sharex=True)\n",
    "    \n",
    "    # MAE Özeti\n",
    "    plt.subplot(211)\n",
    "    plt.plot(h['mean_absolute_error'])\n",
    "    plt.plot(h['val_mean_absolute_error'])\n",
    "    plt.title('Eğitim vs Test Sonuç Kontrol MAE')\n",
    "    plt.ylabel('MAE',fontsize=14)\n",
    "    plt.xlabel('Epoch',fontsize=14)\n",
    "    plt.legend(['Eğitim', 'Test Sonuç Kontrolü'], loc='upper left')\n",
    "    \n",
    "    # Kayıp Özeti\n",
    "    plt.subplot(212)\n",
    "    plt.plot(h['loss'])\n",
    "    plt.plot(h['val_loss'])\n",
    "    plt.title('Eğitim vs Test Kayıp')\n",
    "    plt.ylabel('Kayıp',fontsize=14)\n",
    "    plt.xlabel('Epoch',fontsize=14)\n",
    "    plt.legend(['Eğitim', 'Test Sonuç Kontrolü'], loc='upper left')\n",
    "    \n",
    "    # Grafiklerin çizimi\n",
    "    plt.draw()\n",
    "    plt.show()\n",
    "\n",
    "    return"
   ]
  },
  {
   "cell_type": "code",
   "execution_count": 21,
   "metadata": {},
   "outputs": [
    {
     "data": {
      "image/png": "[encoded data removed]",
      "text/plain": [
       "<Figure size 1152x864 with 2 Axes>"
      ]
     },
     "metadata": {
      "needs_background": "light"
     },
     "output_type": "display_data"
    }
   ],
   "source": [
    "plot_hist(history.history, xsize=16, ysize=12)"
   ]
  },
  {
   "cell_type": "code",
   "execution_count": null,
   "metadata": {},
   "outputs": [],
   "source": []
  }
 ],
 "metadata": {
  "kernelspec": {
   "display_name": "Python 3",
   "language": "python",
   "name": "python3"
  },
  "language_info": {
   "codemirror_mode": {
    "name": "ipython",
    "version": 3
   },
   "file_extension": ".py",
   "mimetype": "text/x-python",
   "name": "python",
   "nbconvert_exporter": "python",
   "pygments_lexer": "ipython3",
   "version": "3.6.8"
  }
 },
 "nbformat": 4,
 "nbformat_minor": 2
}
